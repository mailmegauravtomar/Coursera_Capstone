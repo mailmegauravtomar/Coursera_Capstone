{
 "cells": [
  {
   "cell_type": "markdown",
   "metadata": {},
   "source": [
    "# Introduction or Business Problem"
   ]
  },
  {
   "cell_type": "markdown",
   "metadata": {},
   "source": [
    "Road accident has become one of the most cause of deaths in world. It is 8th leading cause of death in the world and estimated to become 7th leading cause by year 2030.\n",
    "It's time when we should analyze the factor that are causing road accident and we can ensure to take precautionaries measures to minimize the road accident in coming days.\n",
    "Governments should be highly intrested in getting the factors causing the road accidents and try to implementing the rules which can prevent those accidents. Private companies too should take interest in this analysis and aim in improving techonologies ensuring the road safety.\n",
    "In one line, here we'll analyze the several factors that are the reasons of causing road accidents.\n"
   ]
  },
  {
   "cell_type": "markdown",
   "metadata": {},
   "source": [
    "# Data"
   ]
  },
  {
   "cell_type": "markdown",
   "metadata": {},
   "source": [
    "Data Source:\n",
    "The Data for this project comes from kaggle. You can use this(\"https://www.kaggle.com/ahmedlahlou/accidents-in-france-from-2005-to-2016\") link to download the data from kaggle.\n",
    "Categories in data:\n",
    "    The data has five different data sets which consists of all the record of accidents from 2005 to 2016.\n",
    "    1. The Characteristics Dataset contains the information about time,places, type of collision, weather, lightening condition and type of intersection.\n",
    "    2. The places dataset contains the information about the road specifics like gradient , shape , category of road,the tra c regime, surface condition and infrastrcture.\n",
    "    3. The user dataset contains the information about place occupied by the user of the vehicle, user involved in accident, reason of travelling, severity of accident, the use of safety equipment and information on the pedestrains.\n",
    "    4. The Vehicle dataset  contains the information about type of vehicle.\n",
    "    5. The holiday dataset contains the information about one label for the accidents occuring in which holidays.\n",
    "    \n",
    "    \n",
    "The features of the datasets:\n",
    "\n",
    "In the characteristics dataset, We'll keep the following features , \"lighting\", \"localisation\"(agg), \"type of intersection\", \"atmospheric conditions\", \"type of collisions\", \"department\", \"adress\", \"time\" and the coordinates. We added two new features from this original dataset, \"date\" and \"weekend\" indicating if the accident occurred during the weekend or not.\n",
    "\n",
    "In the places dataset, we'll keep the following features: \"road categorie\", \"traffic regime\", \"number of traffic lanes\", \"road profile\", \"road shape\", \"surface condition\", \"situation\", \"school nearby\" and \"infrastructure\".\n",
    "\n",
    "We  have created the following features from the user datasets:\n",
    "\n",
    "num_us : total number of users involved in the accident.\n",
    "ped : Wether there are pedestrians involved or not.\n",
    "critic_age : If there is any user in between 17 and 31 y.o.\n",
    "sev : maximum gravity suffered by any user involved in the accident:\n",
    "0 = Unscathered or Light injury\n",
    "1 = Hospitalized wonded or Death\n",
    "I used the holiday dataset to craft a new feature indicating the accident accurred during a holiday.\n",
    " \n",
    " "
   ]
  }
 ],
 "metadata": {
  "kernelspec": {
   "display_name": "Python 3",
   "language": "python",
   "name": "python3"
  },
  "language_info": {
   "codemirror_mode": {
    "name": "ipython",
    "version": 3
   },
   "file_extension": ".py",
   "mimetype": "text/x-python",
   "name": "python",
   "nbconvert_exporter": "python",
   "pygments_lexer": "ipython3",
   "version": "3.7.6"
  }
 },
 "nbformat": 4,
 "nbformat_minor": 4
}
